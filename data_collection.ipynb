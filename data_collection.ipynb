{
 "cells": [
  {
   "cell_type": "markdown",
   "id": "e17bad6d-0736-45dc-b5b8-c5848b7337b5",
   "metadata": {},
   "source": [
    "# Data Collection"
   ]
  },
  {
   "cell_type": "code",
   "execution_count": 2,
   "id": "a30ec69b-22b8-430c-878d-009f4217d018",
   "metadata": {},
   "outputs": [
    {
     "name": "stdout",
     "output_type": "stream",
     "text": [
      "Collecting nbimporter\n",
      "  Using cached nbimporter-0.3.4-py3-none-any.whl (4.9 kB)\n",
      "Collecting wrds\n",
      "  Using cached wrds-3.1.1-py3-none-any.whl (12 kB)\n",
      "Requirement already satisfied: numpy in /opt/conda/lib/python3.9/site-packages (from wrds) (1.20.3)\n",
      "Requirement already satisfied: pandas in /opt/conda/lib/python3.9/site-packages (from wrds) (1.3.5)\n",
      "Collecting psycopg2-binary\n",
      "  Using cached psycopg2_binary-2.9.3-cp39-cp39-manylinux_2_17_x86_64.manylinux2014_x86_64.whl (3.0 MB)\n",
      "Requirement already satisfied: sqlalchemy in /opt/conda/lib/python3.9/site-packages (from wrds) (1.4.29)\n",
      "Requirement already satisfied: mock in /opt/conda/lib/python3.9/site-packages (from wrds) (4.0.3)\n",
      "Requirement already satisfied: python-dateutil>=2.7.3 in /opt/conda/lib/python3.9/site-packages (from pandas->wrds) (2.8.2)\n",
      "Requirement already satisfied: pytz>=2017.3 in /opt/conda/lib/python3.9/site-packages (from pandas->wrds) (2021.3)\n",
      "Requirement already satisfied: greenlet!=0.4.17 in /opt/conda/lib/python3.9/site-packages (from sqlalchemy->wrds) (1.1.2)\n",
      "Requirement already satisfied: six>=1.5 in /opt/conda/lib/python3.9/site-packages (from python-dateutil>=2.7.3->pandas->wrds) (1.16.0)\n",
      "Installing collected packages: psycopg2-binary, wrds, nbimporter\n",
      "Successfully installed nbimporter-0.3.4 psycopg2-binary-2.9.3 wrds-3.1.1\n"
     ]
    }
   ],
   "source": [
    "!pip install nbimporter wrds"
   ]
  },
  {
   "cell_type": "code",
   "execution_count": 3,
   "id": "94897fe1-e019-469d-a31a-662da98aa080",
   "metadata": {},
   "outputs": [],
   "source": [
    "import nbimporter\n",
    "from credentials import WRDS_USERNAME\n",
    "import pandas as pd\n",
    "import wrds\n",
    "\n",
    "# Stock datatype, sectors is a list of tuples with S&P sector information\n",
    "from sector import Stock, sectors"
   ]
  },
  {
   "cell_type": "code",
   "execution_count": 74,
   "id": "0e4a8efc-b655-427d-9689-c646d72a1943",
   "metadata": {},
   "outputs": [
    {
     "name": "stderr",
     "output_type": "stream",
     "text": [
      "WARNING: password file \"/home/jovyan/.pgpass\" has group or world access; permissions should be u=rw (0600) or less\n"
     ]
    },
    {
     "name": "stdin",
     "output_type": "stream",
     "text": [
      "Enter your WRDS username [rjsmithers3]: \n",
      "Enter your password: ···············\n"
     ]
    },
    {
     "name": "stdout",
     "output_type": "stream",
     "text": [
      "WRDS recommends setting up a .pgpass file.\n"
     ]
    },
    {
     "name": "stdin",
     "output_type": "stream",
     "text": [
      "Create .pgpass file now [y/n]?:  n\n"
     ]
    },
    {
     "name": "stdout",
     "output_type": "stream",
     "text": [
      "You can create this file yourself at any time\n",
      "with the create_pgpass_file() function.\n",
      "Loading library list...\n",
      "Done\n"
     ]
    }
   ],
   "source": [
    "# Authenticate and cache credentials\n",
    "db = wrds.Connection(wrds_username=WRDS_USERNAME)"
   ]
  },
  {
   "cell_type": "code",
   "execution_count": 75,
   "id": "501b76d1-095b-4a0a-b121-f45546402f4e",
   "metadata": {},
   "outputs": [],
   "source": [
    "START_DT = '2015-01-01'\n",
    "\n",
    "sp5 = Stock('SP500', '', 'S&P 500 Index')\n",
    "sp5.data = db.raw_sql(\"SELECT 'SP500' as ticker, 'S&P 500 Index' as descr, caldt as date,spindx as close,sprtrn as retx FROM crsp.dsp500 WHERE caldt > '{}'\".format(START_DT))\n",
    "# Can use the get_table function, however this is limited on our SQL input \n",
    "# data = db.get_table(library='crsp', table='dsp500', columns = ['caldt', 'spindx', 'sprtrn'])\n",
    "\n",
    "stock_data = [sp5]\n",
    "\n",
    "for desc, ticker, cusip in sectors:\n",
    "    sector = Stock(ticker, cusip, desc)\n",
    "    sector.data = db.raw_sql(\"SELECT '{}' as ticker, '{}' as descr, date, bidlo as low, askhi as high, prc as close, vol, ret, bid, ask, retx FROM crsp.dsf WHERE cusip = '{}' AND date > '{}'\".format(ticker, desc, cusip, START_DT))\n",
    "    stock_data.append(sector)\n"
   ]
  },
  {
   "cell_type": "code",
   "execution_count": 76,
   "id": "21a544e6-5e4d-462d-bbf1-5fa41d2d9b36",
   "metadata": {},
   "outputs": [],
   "source": [
    "# db.list_tables(library=\"crsp\")\n",
    "# db.describe_table('crsp', 'msf')"
   ]
  },
  {
   "cell_type": "code",
   "execution_count": 77,
   "id": "bdd2da4d-bd74-46d9-89d6-9abffebcd71b",
   "metadata": {},
   "outputs": [],
   "source": [
    "# Terminate our connection for data gathering\n",
    "db.close()"
   ]
  },
  {
   "cell_type": "code",
   "execution_count": 78,
   "id": "74a832c2-f14a-46bd-ba5d-cc9b1a885486",
   "metadata": {},
   "outputs": [],
   "source": [
    "# Compute HIGH, LOW from data (needed for technical analysis)\n",
    "\n",
    "all_data = []\n",
    "for stock in stock_data:\n",
    "    all_data.append(stock.data)\n",
    "\n",
    "joined = pd.concat(all_data)"
   ]
  },
  {
   "cell_type": "code",
   "execution_count": 79,
   "id": "f62da28c-0bfc-47d6-bdb2-d5a5a27ae9fd",
   "metadata": {},
   "outputs": [],
   "source": [
    "# Save our data\n",
    "for stock in stock_data:\n",
    "    stock.data.to_csv(\"data/sectors/{}_7yr_daily.csv\".format(stock.ticker))"
   ]
  },
  {
   "cell_type": "code",
   "execution_count": 80,
   "id": "a9f6c214-64ff-4dec-91fe-9dab880af585",
   "metadata": {},
   "outputs": [
    {
     "data": {
      "text/html": [
       "<div>\n",
       "<style scoped>\n",
       "    .dataframe tbody tr th:only-of-type {\n",
       "        vertical-align: middle;\n",
       "    }\n",
       "\n",
       "    .dataframe tbody tr th {\n",
       "        vertical-align: top;\n",
       "    }\n",
       "\n",
       "    .dataframe thead th {\n",
       "        text-align: right;\n",
       "    }\n",
       "</style>\n",
       "<table border=\"1\" class=\"dataframe\">\n",
       "  <thead>\n",
       "    <tr style=\"text-align: right;\">\n",
       "      <th></th>\n",
       "      <th>ticker</th>\n",
       "      <th>descr</th>\n",
       "      <th>date</th>\n",
       "      <th>close</th>\n",
       "      <th>retx</th>\n",
       "      <th>low</th>\n",
       "      <th>high</th>\n",
       "      <th>vol</th>\n",
       "      <th>ret</th>\n",
       "      <th>bid</th>\n",
       "      <th>ask</th>\n",
       "    </tr>\n",
       "  </thead>\n",
       "  <tbody>\n",
       "    <tr>\n",
       "      <th>0</th>\n",
       "      <td>SP500</td>\n",
       "      <td>S&amp;P 500 Index</td>\n",
       "      <td>2015-01-02</td>\n",
       "      <td>2058.200000</td>\n",
       "      <td>-0.000340</td>\n",
       "      <td>NaN</td>\n",
       "      <td>NaN</td>\n",
       "      <td>NaN</td>\n",
       "      <td>NaN</td>\n",
       "      <td>NaN</td>\n",
       "      <td>NaN</td>\n",
       "    </tr>\n",
       "    <tr>\n",
       "      <th>1</th>\n",
       "      <td>SP500</td>\n",
       "      <td>S&amp;P 500 Index</td>\n",
       "      <td>2015-01-05</td>\n",
       "      <td>2020.580000</td>\n",
       "      <td>-0.018278</td>\n",
       "      <td>NaN</td>\n",
       "      <td>NaN</td>\n",
       "      <td>NaN</td>\n",
       "      <td>NaN</td>\n",
       "      <td>NaN</td>\n",
       "      <td>NaN</td>\n",
       "    </tr>\n",
       "    <tr>\n",
       "      <th>2</th>\n",
       "      <td>SP500</td>\n",
       "      <td>S&amp;P 500 Index</td>\n",
       "      <td>2015-01-06</td>\n",
       "      <td>2002.610000</td>\n",
       "      <td>-0.008893</td>\n",
       "      <td>NaN</td>\n",
       "      <td>NaN</td>\n",
       "      <td>NaN</td>\n",
       "      <td>NaN</td>\n",
       "      <td>NaN</td>\n",
       "      <td>NaN</td>\n",
       "    </tr>\n",
       "    <tr>\n",
       "      <th>3</th>\n",
       "      <td>SP500</td>\n",
       "      <td>S&amp;P 500 Index</td>\n",
       "      <td>2015-01-07</td>\n",
       "      <td>2025.900000</td>\n",
       "      <td>0.011630</td>\n",
       "      <td>NaN</td>\n",
       "      <td>NaN</td>\n",
       "      <td>NaN</td>\n",
       "      <td>NaN</td>\n",
       "      <td>NaN</td>\n",
       "      <td>NaN</td>\n",
       "    </tr>\n",
       "    <tr>\n",
       "      <th>4</th>\n",
       "      <td>SP500</td>\n",
       "      <td>S&amp;P 500 Index</td>\n",
       "      <td>2015-01-08</td>\n",
       "      <td>2062.140000</td>\n",
       "      <td>0.017888</td>\n",
       "      <td>NaN</td>\n",
       "      <td>NaN</td>\n",
       "      <td>NaN</td>\n",
       "      <td>NaN</td>\n",
       "      <td>NaN</td>\n",
       "      <td>NaN</td>\n",
       "    </tr>\n",
       "    <tr>\n",
       "      <th>...</th>\n",
       "      <td>...</td>\n",
       "      <td>...</td>\n",
       "      <td>...</td>\n",
       "      <td>...</td>\n",
       "      <td>...</td>\n",
       "      <td>...</td>\n",
       "      <td>...</td>\n",
       "      <td>...</td>\n",
       "      <td>...</td>\n",
       "      <td>...</td>\n",
       "      <td>...</td>\n",
       "    </tr>\n",
       "    <tr>\n",
       "      <th>1758</th>\n",
       "      <td>XLU</td>\n",
       "      <td>Utilities</td>\n",
       "      <td>2021-12-27</td>\n",
       "      <td>70.059998</td>\n",
       "      <td>0.004877</td>\n",
       "      <td>69.540001</td>\n",
       "      <td>70.059998</td>\n",
       "      <td>7853685.0</td>\n",
       "      <td>0.004877</td>\n",
       "      <td>70.050003</td>\n",
       "      <td>70.059998</td>\n",
       "    </tr>\n",
       "    <tr>\n",
       "      <th>1759</th>\n",
       "      <td>XLU</td>\n",
       "      <td>Utilities</td>\n",
       "      <td>2021-12-28</td>\n",
       "      <td>70.690002</td>\n",
       "      <td>0.008992</td>\n",
       "      <td>70.110001</td>\n",
       "      <td>70.709999</td>\n",
       "      <td>8052724.0</td>\n",
       "      <td>0.008992</td>\n",
       "      <td>70.699997</td>\n",
       "      <td>70.709999</td>\n",
       "    </tr>\n",
       "    <tr>\n",
       "      <th>1760</th>\n",
       "      <td>XLU</td>\n",
       "      <td>Utilities</td>\n",
       "      <td>2021-12-29</td>\n",
       "      <td>71.070000</td>\n",
       "      <td>0.005376</td>\n",
       "      <td>70.650002</td>\n",
       "      <td>71.180000</td>\n",
       "      <td>6877849.0</td>\n",
       "      <td>0.005376</td>\n",
       "      <td>71.059998</td>\n",
       "      <td>71.070000</td>\n",
       "    </tr>\n",
       "    <tr>\n",
       "      <th>1761</th>\n",
       "      <td>XLU</td>\n",
       "      <td>Utilities</td>\n",
       "      <td>2021-12-30</td>\n",
       "      <td>71.330002</td>\n",
       "      <td>0.003658</td>\n",
       "      <td>70.809998</td>\n",
       "      <td>71.400002</td>\n",
       "      <td>9336214.0</td>\n",
       "      <td>0.003658</td>\n",
       "      <td>71.330002</td>\n",
       "      <td>71.339996</td>\n",
       "    </tr>\n",
       "    <tr>\n",
       "      <th>1762</th>\n",
       "      <td>XLU</td>\n",
       "      <td>Utilities</td>\n",
       "      <td>2021-12-31</td>\n",
       "      <td>71.580002</td>\n",
       "      <td>0.003505</td>\n",
       "      <td>71.040001</td>\n",
       "      <td>71.830002</td>\n",
       "      <td>9309400.0</td>\n",
       "      <td>0.003505</td>\n",
       "      <td>71.550003</td>\n",
       "      <td>71.559998</td>\n",
       "    </tr>\n",
       "  </tbody>\n",
       "</table>\n",
       "<p>20092 rows × 11 columns</p>\n",
       "</div>"
      ],
      "text/plain": [
       "     ticker          descr        date        close      retx        low  \\\n",
       "0     SP500  S&P 500 Index  2015-01-02  2058.200000 -0.000340        NaN   \n",
       "1     SP500  S&P 500 Index  2015-01-05  2020.580000 -0.018278        NaN   \n",
       "2     SP500  S&P 500 Index  2015-01-06  2002.610000 -0.008893        NaN   \n",
       "3     SP500  S&P 500 Index  2015-01-07  2025.900000  0.011630        NaN   \n",
       "4     SP500  S&P 500 Index  2015-01-08  2062.140000  0.017888        NaN   \n",
       "...     ...            ...         ...          ...       ...        ...   \n",
       "1758    XLU      Utilities  2021-12-27    70.059998  0.004877  69.540001   \n",
       "1759    XLU      Utilities  2021-12-28    70.690002  0.008992  70.110001   \n",
       "1760    XLU      Utilities  2021-12-29    71.070000  0.005376  70.650002   \n",
       "1761    XLU      Utilities  2021-12-30    71.330002  0.003658  70.809998   \n",
       "1762    XLU      Utilities  2021-12-31    71.580002  0.003505  71.040001   \n",
       "\n",
       "           high        vol       ret        bid        ask  \n",
       "0           NaN        NaN       NaN        NaN        NaN  \n",
       "1           NaN        NaN       NaN        NaN        NaN  \n",
       "2           NaN        NaN       NaN        NaN        NaN  \n",
       "3           NaN        NaN       NaN        NaN        NaN  \n",
       "4           NaN        NaN       NaN        NaN        NaN  \n",
       "...         ...        ...       ...        ...        ...  \n",
       "1758  70.059998  7853685.0  0.004877  70.050003  70.059998  \n",
       "1759  70.709999  8052724.0  0.008992  70.699997  70.709999  \n",
       "1760  71.180000  6877849.0  0.005376  71.059998  71.070000  \n",
       "1761  71.400002  9336214.0  0.003658  71.330002  71.339996  \n",
       "1762  71.830002  9309400.0  0.003505  71.550003  71.559998  \n",
       "\n",
       "[20092 rows x 11 columns]"
      ]
     },
     "execution_count": 80,
     "metadata": {},
     "output_type": "execute_result"
    }
   ],
   "source": [
    "joined"
   ]
  },
  {
   "cell_type": "code",
   "execution_count": 81,
   "id": "c5f7edca-aa90-49a1-bbb7-49c84be5efee",
   "metadata": {},
   "outputs": [],
   "source": [
    "joined.to_csv(\"data/sp5_sectors_7yr_daily.csv\")"
   ]
  },
  {
   "cell_type": "code",
   "execution_count": null,
   "id": "2efcf13f-25cf-4fa2-91e3-4125762666b8",
   "metadata": {},
   "outputs": [],
   "source": []
  }
 ],
 "metadata": {
  "kernelspec": {
   "display_name": "Python 3 (ipykernel)",
   "language": "python",
   "name": "python3"
  },
  "language_info": {
   "codemirror_mode": {
    "name": "ipython",
    "version": 3
   },
   "file_extension": ".py",
   "mimetype": "text/x-python",
   "name": "python",
   "nbconvert_exporter": "python",
   "pygments_lexer": "ipython3",
   "version": "3.9.7"
  }
 },
 "nbformat": 4,
 "nbformat_minor": 5
}
